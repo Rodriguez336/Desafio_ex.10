{
 "cells": [
  {
   "cell_type": "code",
   "execution_count": 2,
   "metadata": {},
   "outputs": [
    {
     "data": {
      "text/html": [
       "<div>\n",
       "<style scoped>\n",
       "    .dataframe tbody tr th:only-of-type {\n",
       "        vertical-align: middle;\n",
       "    }\n",
       "\n",
       "    .dataframe tbody tr th {\n",
       "        vertical-align: top;\n",
       "    }\n",
       "\n",
       "    .dataframe thead th {\n",
       "        text-align: right;\n",
       "    }\n",
       "</style>\n",
       "<table border=\"1\" class=\"dataframe\">\n",
       "  <thead>\n",
       "    <tr style=\"text-align: right;\">\n",
       "      <th></th>\n",
       "      <th>Coluna 1</th>\n",
       "      <th>Coluna 2</th>\n",
       "      <th>Coluna 3</th>\n",
       "      <th>Coluna 4</th>\n",
       "      <th>Coluna 5</th>\n",
       "      <th>Coluna 6</th>\n",
       "      <th>Coluna 7</th>\n",
       "      <th>Coluna 8</th>\n",
       "      <th>Coluna 9</th>\n",
       "      <th>Coluna 10</th>\n",
       "      <th>Coluna 11</th>\n",
       "      <th>Coluna 12</th>\n",
       "      <th>Coluna 13</th>\n",
       "    </tr>\n",
       "  </thead>\n",
       "  <tbody>\n",
       "    <tr>\n",
       "      <th>0</th>\n",
       "      <td>04-10-2016</td>\n",
       "      <td>Rolls Royce</td>\n",
       "      <td>São Paulo</td>\n",
       "      <td>95000.0</td>\n",
       "      <td>50000.0</td>\n",
       "      <td>500.0</td>\n",
       "      <td>750.0</td>\n",
       "      <td>750.0</td>\n",
       "      <td>Aldo Motors</td>\n",
       "      <td>Camargue</td>\n",
       "      <td>Vermelho</td>\n",
       "      <td>2016.0</td>\n",
       "      <td>Outubro</td>\n",
       "    </tr>\n",
       "    <tr>\n",
       "      <th>1</th>\n",
       "      <td>01-01-2016</td>\n",
       "      <td>Aston Martin</td>\n",
       "      <td>São Paulo</td>\n",
       "      <td>120000.0</td>\n",
       "      <td>75000.0</td>\n",
       "      <td>0.0</td>\n",
       "      <td>1500.0</td>\n",
       "      <td>550.0</td>\n",
       "      <td>Honest John</td>\n",
       "      <td>DBS</td>\n",
       "      <td>Azul</td>\n",
       "      <td>2016.0</td>\n",
       "      <td>Janeiro</td>\n",
       "    </tr>\n",
       "    <tr>\n",
       "      <th>2</th>\n",
       "      <td>02-02-2016</td>\n",
       "      <td>Rolls Royce</td>\n",
       "      <td>São Paulo</td>\n",
       "      <td>88000.0</td>\n",
       "      <td>75000.0</td>\n",
       "      <td>750.0</td>\n",
       "      <td>1000.0</td>\n",
       "      <td>550.0</td>\n",
       "      <td>Bright Orange</td>\n",
       "      <td>Prata Ghost</td>\n",
       "      <td>Verde</td>\n",
       "      <td>2016.0</td>\n",
       "      <td>Fevereiro</td>\n",
       "    </tr>\n",
       "    <tr>\n",
       "      <th>3</th>\n",
       "      <td>03-03-2016</td>\n",
       "      <td>Rolls Royce</td>\n",
       "      <td>São Paulo</td>\n",
       "      <td>89000.0</td>\n",
       "      <td>88000.0</td>\n",
       "      <td>0.0</td>\n",
       "      <td>1000.0</td>\n",
       "      <td>550.0</td>\n",
       "      <td>Honest John</td>\n",
       "      <td>Prata Ghost</td>\n",
       "      <td>Azul</td>\n",
       "      <td>2016.0</td>\n",
       "      <td>Março</td>\n",
       "    </tr>\n",
       "    <tr>\n",
       "      <th>4</th>\n",
       "      <td>04-04-2016</td>\n",
       "      <td>Rolls Royce</td>\n",
       "      <td>São Paulo</td>\n",
       "      <td>92000.0</td>\n",
       "      <td>62000.0</td>\n",
       "      <td>0.0</td>\n",
       "      <td>1500.0</td>\n",
       "      <td>550.0</td>\n",
       "      <td>Wheels'R'Us</td>\n",
       "      <td>Camargue</td>\n",
       "      <td>Prata</td>\n",
       "      <td>2016.0</td>\n",
       "      <td>Abril</td>\n",
       "    </tr>\n",
       "  </tbody>\n",
       "</table>\n",
       "</div>"
      ],
      "text/plain": [
       "     Coluna 1      Coluna 2   Coluna 3  Coluna 4  Coluna 5  Coluna 6  \\\n",
       "0  04-10-2016   Rolls Royce  São Paulo   95000.0   50000.0     500.0   \n",
       "1  01-01-2016  Aston Martin  São Paulo  120000.0   75000.0       0.0   \n",
       "2  02-02-2016   Rolls Royce  São Paulo   88000.0   75000.0     750.0   \n",
       "3  03-03-2016   Rolls Royce  São Paulo   89000.0   88000.0       0.0   \n",
       "4  04-04-2016   Rolls Royce  São Paulo   92000.0   62000.0       0.0   \n",
       "\n",
       "   Coluna 7  Coluna 8       Coluna 9    Coluna 10 Coluna 11  Coluna 12  \\\n",
       "0     750.0     750.0    Aldo Motors     Camargue  Vermelho     2016.0   \n",
       "1    1500.0     550.0    Honest John          DBS      Azul     2016.0   \n",
       "2    1000.0     550.0  Bright Orange  Prata Ghost     Verde     2016.0   \n",
       "3    1000.0     550.0    Honest John  Prata Ghost      Azul     2016.0   \n",
       "4    1500.0     550.0    Wheels'R'Us     Camargue     Prata     2016.0   \n",
       "\n",
       "   Coluna 13  \n",
       "0    Outubro  \n",
       "1    Janeiro  \n",
       "2  Fevereiro  \n",
       "3      Março  \n",
       "4      Abril  "
      ]
     },
     "execution_count": 2,
     "metadata": {},
     "output_type": "execute_result"
    }
   ],
   "source": [
    "import pandas as pd\n",
    "import matplotlib.pyplot as plt\n",
    "import os\n",
    "\n",
    "caminhoArquivo = 'C:\\\\Users\\\\FIC\\\\Documents\\\\Raquel\\\\Aula09\\\\DadosVendaCarros.xlsx'\n",
    "\n",
    "dados = pd.read_excel(caminhoArquivo)\n",
    "\n",
    "dados.head()\n",
    "\n"
   ]
  },
  {
   "attachments": {
    "image.png": {
     "image/png": "[encoded data removed]"
    }
   },
   "cell_type": "markdown",
   "metadata": {},
   "source": [
    "![image.png](attachment:image.png)"
   ]
  },
  {
   "cell_type": "code",
   "execution_count": 3,
   "metadata": {},
   "outputs": [
    {
     "data": {
      "text/html": [
       "<div>\n",
       "<style scoped>\n",
       "    .dataframe tbody tr th:only-of-type {\n",
       "        vertical-align: middle;\n",
       "    }\n",
       "\n",
       "    .dataframe tbody tr th {\n",
       "        vertical-align: top;\n",
       "    }\n",
       "\n",
       "    .dataframe thead th {\n",
       "        text-align: right;\n",
       "    }\n",
       "</style>\n",
       "<table border=\"1\" class=\"dataframe\">\n",
       "  <thead>\n",
       "    <tr style=\"text-align: right;\">\n",
       "      <th></th>\n",
       "      <th>DataNotaFiscal</th>\n",
       "      <th>Fabricante</th>\n",
       "      <th>Estado</th>\n",
       "      <th>ValorVenda</th>\n",
       "      <th>ValorCusto</th>\n",
       "      <th>TotalDesconto</th>\n",
       "      <th>CustoEntrega</th>\n",
       "      <th>CustoMaoDeObra</th>\n",
       "      <th>NomeCliente</th>\n",
       "      <th>Modelo</th>\n",
       "      <th>Cor</th>\n",
       "      <th>Ano</th>\n",
       "      <th>Mes</th>\n",
       "    </tr>\n",
       "  </thead>\n",
       "  <tbody>\n",
       "    <tr>\n",
       "      <th>0</th>\n",
       "      <td>04-10-2016</td>\n",
       "      <td>Rolls Royce</td>\n",
       "      <td>São Paulo</td>\n",
       "      <td>95000.0</td>\n",
       "      <td>50000.0</td>\n",
       "      <td>500.0</td>\n",
       "      <td>750.0</td>\n",
       "      <td>750.0</td>\n",
       "      <td>Aldo Motors</td>\n",
       "      <td>Camargue</td>\n",
       "      <td>Vermelho</td>\n",
       "      <td>2016.0</td>\n",
       "      <td>Outubro</td>\n",
       "    </tr>\n",
       "    <tr>\n",
       "      <th>1</th>\n",
       "      <td>01-01-2016</td>\n",
       "      <td>Aston Martin</td>\n",
       "      <td>São Paulo</td>\n",
       "      <td>120000.0</td>\n",
       "      <td>75000.0</td>\n",
       "      <td>0.0</td>\n",
       "      <td>1500.0</td>\n",
       "      <td>550.0</td>\n",
       "      <td>Honest John</td>\n",
       "      <td>DBS</td>\n",
       "      <td>Azul</td>\n",
       "      <td>2016.0</td>\n",
       "      <td>Janeiro</td>\n",
       "    </tr>\n",
       "    <tr>\n",
       "      <th>2</th>\n",
       "      <td>02-02-2016</td>\n",
       "      <td>Rolls Royce</td>\n",
       "      <td>São Paulo</td>\n",
       "      <td>88000.0</td>\n",
       "      <td>75000.0</td>\n",
       "      <td>750.0</td>\n",
       "      <td>1000.0</td>\n",
       "      <td>550.0</td>\n",
       "      <td>Bright Orange</td>\n",
       "      <td>Prata Ghost</td>\n",
       "      <td>Verde</td>\n",
       "      <td>2016.0</td>\n",
       "      <td>Fevereiro</td>\n",
       "    </tr>\n",
       "    <tr>\n",
       "      <th>3</th>\n",
       "      <td>03-03-2016</td>\n",
       "      <td>Rolls Royce</td>\n",
       "      <td>São Paulo</td>\n",
       "      <td>89000.0</td>\n",
       "      <td>88000.0</td>\n",
       "      <td>0.0</td>\n",
       "      <td>1000.0</td>\n",
       "      <td>550.0</td>\n",
       "      <td>Honest John</td>\n",
       "      <td>Prata Ghost</td>\n",
       "      <td>Azul</td>\n",
       "      <td>2016.0</td>\n",
       "      <td>Março</td>\n",
       "    </tr>\n",
       "    <tr>\n",
       "      <th>4</th>\n",
       "      <td>04-04-2016</td>\n",
       "      <td>Rolls Royce</td>\n",
       "      <td>São Paulo</td>\n",
       "      <td>92000.0</td>\n",
       "      <td>62000.0</td>\n",
       "      <td>0.0</td>\n",
       "      <td>1500.0</td>\n",
       "      <td>550.0</td>\n",
       "      <td>Wheels'R'Us</td>\n",
       "      <td>Camargue</td>\n",
       "      <td>Prata</td>\n",
       "      <td>2016.0</td>\n",
       "      <td>Abril</td>\n",
       "    </tr>\n",
       "  </tbody>\n",
       "</table>\n",
       "</div>"
      ],
      "text/plain": [
       "  DataNotaFiscal    Fabricante     Estado  ValorVenda  ValorCusto  \\\n",
       "0     04-10-2016   Rolls Royce  São Paulo     95000.0     50000.0   \n",
       "1     01-01-2016  Aston Martin  São Paulo    120000.0     75000.0   \n",
       "2     02-02-2016   Rolls Royce  São Paulo     88000.0     75000.0   \n",
       "3     03-03-2016   Rolls Royce  São Paulo     89000.0     88000.0   \n",
       "4     04-04-2016   Rolls Royce  São Paulo     92000.0     62000.0   \n",
       "\n",
       "   TotalDesconto  CustoEntrega  CustoMaoDeObra    NomeCliente       Modelo  \\\n",
       "0          500.0         750.0           750.0    Aldo Motors     Camargue   \n",
       "1            0.0        1500.0           550.0    Honest John          DBS   \n",
       "2          750.0        1000.0           550.0  Bright Orange  Prata Ghost   \n",
       "3            0.0        1000.0           550.0    Honest John  Prata Ghost   \n",
       "4            0.0        1500.0           550.0    Wheels'R'Us     Camargue   \n",
       "\n",
       "        Cor     Ano        Mes  \n",
       "0  Vermelho  2016.0    Outubro  \n",
       "1      Azul  2016.0    Janeiro  \n",
       "2     Verde  2016.0  Fevereiro  \n",
       "3      Azul  2016.0      Março  \n",
       "4     Prata  2016.0      Abril  "
      ]
     },
     "execution_count": 3,
     "metadata": {},
     "output_type": "execute_result"
    }
   ],
   "source": [
    "headers = [\n",
    "    'DataNotaFiscal','Fabricante','Estado','ValorVenda','ValorCusto',\n",
    "    'TotalDesconto','CustoEntrega','CustoMaoDeObra','NomeCliente','Modelo','Cor','Ano','Mes'\n",
    "]\n",
    "\n",
    "\n",
    "dados.columns = (headers)\n",
    "dados.head()"
   ]
  },
  {
   "cell_type": "code",
   "execution_count": 10,
   "metadata": {},
   "outputs": [
    {
     "name": "stdout",
     "output_type": "stream",
     "text": [
      "<class 'pandas.core.frame.DataFrame'>\n",
      "Index: 457 entries, 0 to 494\n",
      "Data columns (total 13 columns):\n",
      " #   Column          Non-Null Count  Dtype  \n",
      "---  ------          --------------  -----  \n",
      " 0   DataNotaFiscal  457 non-null    object \n",
      " 1   Fabricante      457 non-null    object \n",
      " 2   Estado          457 non-null    object \n",
      " 3   ValorVenda      457 non-null    float64\n",
      " 4   ValorCusto      457 non-null    float64\n",
      " 5   TotalDesconto   457 non-null    float64\n",
      " 6   CustoEntrega    457 non-null    float64\n",
      " 7   CustoMaoDeObra  457 non-null    float64\n",
      " 8   NomeCliente     457 non-null    object \n",
      " 9   Modelo          457 non-null    object \n",
      " 10  Cor             457 non-null    object \n",
      " 11  Ano             457 non-null    float64\n",
      " 12  Mes             457 non-null    object \n",
      "dtypes: float64(6), object(7)\n",
      "memory usage: 50.0+ KB\n"
     ]
    }
   ],
   "source": [
    "dados = dados.dropna()\n",
    "dados.info()"
   ]
  },
  {
   "cell_type": "code",
   "execution_count": 23,
   "metadata": {},
   "outputs": [
    {
     "name": "stdout",
     "output_type": "stream",
     "text": [
      "Ano\n",
      "2016.0     3185500.0\n",
      "2017.0     7158710.0\n",
      "2018.0     6386440.0\n",
      "2019.0    14967290.0\n",
      "Name: ValorVenda, dtype: float64\n"
     ]
    }
   ],
   "source": [
    "df_ano = dados.groupby('Ano')['ValorVenda'].sum()\n",
    "\n",
    "print(df_ano)"
   ]
  },
  {
   "cell_type": "code",
   "execution_count": 22,
   "metadata": {},
   "outputs": [
    {
     "data": {
      "text/plain": [
       "<BarContainer object of 4 artists>"
      ]
     },
     "execution_count": 22,
     "metadata": {},
     "output_type": "execute_result"
    },
    {
     "data": {
      "image/png": "[encoded data removed]",
      "text/plain": [
       "<Figure size 640x480 with 1 Axes>"
      ]
     },
     "metadata": {},
     "output_type": "display_data"
    }
   ],
   "source": [
    "df_ano = dados.groupby('Ano')['ValorVenda'].sum()\n",
    "\n",
    "anos = df_ano.index\n",
    "vendas = df_ano.values\n",
    "\n",
    "plt.bar(anos,vendas)\n",
    "\n",
    "\n"
   ]
  },
  {
   "cell_type": "markdown",
   "metadata": {},
   "source": [
    "DADOS 2016"
   ]
  },
  {
   "cell_type": "code",
   "execution_count": 27,
   "metadata": {},
   "outputs": [
    {
     "data": {
      "text/plain": [
       "Mes\n",
       "Abril        246000.0\n",
       "Agosto       350000.0\n",
       "Dezembro     361500.0\n",
       "Fevereiro    177000.0\n",
       "Janeiro      203500.0\n",
       "Julho        279000.0\n",
       "Junho        259500.0\n",
       "Maio         256500.0\n",
       "Março        172500.0\n",
       "Novembro     333500.0\n",
       "Outubro      249000.0\n",
       "Setembro     297500.0\n",
       "Name: ValorVenda, dtype: float64"
      ]
     },
     "execution_count": 27,
     "metadata": {},
     "output_type": "execute_result"
    }
   ],
   "source": [
    "# Filtrando as vendas de 2016\n",
    "df_2016 = dados[dados['Ano'] == 2016]\n",
    "\n",
    "\n",
    "df_2016.groupby('Mes')['ValorVenda'].sum()"
   ]
  }
 ],
 "metadata": {
  "kernelspec": {
   "display_name": "Python 3",
   "language": "python",
   "name": "python3"
  },
  "language_info": {
   "codemirror_mode": {
    "name": "ipython",
    "version": 3
   },
   "file_extension": ".py",
   "mimetype": "text/x-python",
   "name": "python",
   "nbconvert_exporter": "python",
   "pygments_lexer": "ipython3",
   "version": "3.11.0"
  }
 },
 "nbformat": 4,
 "nbformat_minor": 2
}
